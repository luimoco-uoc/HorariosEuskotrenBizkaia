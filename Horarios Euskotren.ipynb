{
 "cells": [
  {
   "cell_type": "code",
   "execution_count": 1,
   "metadata": {},
   "outputs": [],
   "source": [
    "import pandas as pd\n",
    "import seaborn as sns\n",
    "import matplotlib.pyplot as plt"
   ]
  },
  {
   "cell_type": "code",
   "execution_count": 2,
   "metadata": {},
   "outputs": [],
   "source": [
    "horarios = pd.read_csv('Horarios Euskotren Bizkaia.csv', sep = ';')"
   ]
  },
  {
   "cell_type": "code",
   "execution_count": 3,
   "metadata": {},
   "outputs": [
    {
     "data": {
      "text/html": [
       "<div>\n",
       "<style scoped>\n",
       "    .dataframe tbody tr th:only-of-type {\n",
       "        vertical-align: middle;\n",
       "    }\n",
       "\n",
       "    .dataframe tbody tr th {\n",
       "        vertical-align: top;\n",
       "    }\n",
       "\n",
       "    .dataframe thead th {\n",
       "        text-align: right;\n",
       "    }\n",
       "</style>\n",
       "<table border=\"1\" class=\"dataframe\">\n",
       "  <thead>\n",
       "    <tr style=\"text-align: right;\">\n",
       "      <th></th>\n",
       "      <th>Convoy</th>\n",
       "      <th>Lineas</th>\n",
       "      <th>Sentido</th>\n",
       "      <th>Horario</th>\n",
       "      <th>Estacion</th>\n",
       "      <th>Latitud</th>\n",
       "      <th>Longitud</th>\n",
       "      <th>Hora</th>\n",
       "    </tr>\n",
       "  </thead>\n",
       "  <tbody>\n",
       "    <tr>\n",
       "      <th>0</th>\n",
       "      <td>1</td>\n",
       "      <td>E1</td>\n",
       "      <td>I</td>\n",
       "      <td>L</td>\n",
       "      <td>Errotabarri Ermua</td>\n",
       "      <td>43.183351</td>\n",
       "      <td>-2.503351</td>\n",
       "      <td>7:20:00</td>\n",
       "    </tr>\n",
       "    <tr>\n",
       "      <th>1</th>\n",
       "      <td>1</td>\n",
       "      <td>E1</td>\n",
       "      <td>I</td>\n",
       "      <td>L</td>\n",
       "      <td>Ermua</td>\n",
       "      <td>43.185551</td>\n",
       "      <td>-2.513451</td>\n",
       "      <td>7:21:00</td>\n",
       "    </tr>\n",
       "    <tr>\n",
       "      <th>2</th>\n",
       "      <td>1</td>\n",
       "      <td>E1</td>\n",
       "      <td>I</td>\n",
       "      <td>L</td>\n",
       "      <td>Zaldibar</td>\n",
       "      <td>43.171635</td>\n",
       "      <td>-2.552394</td>\n",
       "      <td>7:31:00</td>\n",
       "    </tr>\n",
       "    <tr>\n",
       "      <th>3</th>\n",
       "      <td>1</td>\n",
       "      <td>E1</td>\n",
       "      <td>I</td>\n",
       "      <td>L</td>\n",
       "      <td>Berriz</td>\n",
       "      <td>43.168511</td>\n",
       "      <td>-2.576055</td>\n",
       "      <td>7:35:00</td>\n",
       "    </tr>\n",
       "    <tr>\n",
       "      <th>4</th>\n",
       "      <td>1</td>\n",
       "      <td>E1</td>\n",
       "      <td>I</td>\n",
       "      <td>L</td>\n",
       "      <td>Traña Abadiño</td>\n",
       "      <td>43.165084</td>\n",
       "      <td>-2.614469</td>\n",
       "      <td>7:39:00</td>\n",
       "    </tr>\n",
       "    <tr>\n",
       "      <th>...</th>\n",
       "      <td>...</td>\n",
       "      <td>...</td>\n",
       "      <td>...</td>\n",
       "      <td>...</td>\n",
       "      <td>...</td>\n",
       "      <td>...</td>\n",
       "      <td>...</td>\n",
       "      <td>...</td>\n",
       "    </tr>\n",
       "    <tr>\n",
       "      <th>8281</th>\n",
       "      <td>521</td>\n",
       "      <td>L3</td>\n",
       "      <td>V</td>\n",
       "      <td>L</td>\n",
       "      <td>Zazpikaleak Bilbao</td>\n",
       "      <td>43.259955</td>\n",
       "      <td>-2.922402</td>\n",
       "      <td>6:20:00</td>\n",
       "    </tr>\n",
       "    <tr>\n",
       "      <th>8282</th>\n",
       "      <td>521</td>\n",
       "      <td>L3</td>\n",
       "      <td>V</td>\n",
       "      <td>L</td>\n",
       "      <td>Zurbaranbarri Bilbao</td>\n",
       "      <td>43.264291</td>\n",
       "      <td>-2.912931</td>\n",
       "      <td>6:22:00</td>\n",
       "    </tr>\n",
       "    <tr>\n",
       "      <th>8283</th>\n",
       "      <td>521</td>\n",
       "      <td>L3</td>\n",
       "      <td>V</td>\n",
       "      <td>L</td>\n",
       "      <td>Txurdinaga Bilbao</td>\n",
       "      <td>43.257965</td>\n",
       "      <td>-2.907002</td>\n",
       "      <td>6:24:00</td>\n",
       "    </tr>\n",
       "    <tr>\n",
       "      <th>8284</th>\n",
       "      <td>521</td>\n",
       "      <td>L3</td>\n",
       "      <td>V</td>\n",
       "      <td>L</td>\n",
       "      <td>Otxarkoaga Bilbao</td>\n",
       "      <td>43.258909</td>\n",
       "      <td>-2.898010</td>\n",
       "      <td>6:25:00</td>\n",
       "    </tr>\n",
       "    <tr>\n",
       "      <th>8285</th>\n",
       "      <td>521</td>\n",
       "      <td>L3</td>\n",
       "      <td>V</td>\n",
       "      <td>L</td>\n",
       "      <td>Kukullaga Etxebarri</td>\n",
       "      <td>43.251161</td>\n",
       "      <td>-2.889955</td>\n",
       "      <td>6:28:00</td>\n",
       "    </tr>\n",
       "  </tbody>\n",
       "</table>\n",
       "<p>8286 rows × 8 columns</p>\n",
       "</div>"
      ],
      "text/plain": [
       "      Convoy Lineas Sentido Horario              Estacion    Latitud  \\\n",
       "0          1     E1       I       L     Errotabarri Ermua  43.183351   \n",
       "1          1     E1       I       L                 Ermua  43.185551   \n",
       "2          1     E1       I       L              Zaldibar  43.171635   \n",
       "3          1     E1       I       L                Berriz  43.168511   \n",
       "4          1     E1       I       L         Traña Abadiño  43.165084   \n",
       "...      ...    ...     ...     ...                   ...        ...   \n",
       "8281     521     L3       V       L    Zazpikaleak Bilbao  43.259955   \n",
       "8282     521     L3       V       L  Zurbaranbarri Bilbao  43.264291   \n",
       "8283     521     L3       V       L     Txurdinaga Bilbao  43.257965   \n",
       "8284     521     L3       V       L     Otxarkoaga Bilbao  43.258909   \n",
       "8285     521     L3       V       L   Kukullaga Etxebarri  43.251161   \n",
       "\n",
       "      Longitud     Hora  \n",
       "0    -2.503351  7:20:00  \n",
       "1    -2.513451  7:21:00  \n",
       "2    -2.552394  7:31:00  \n",
       "3    -2.576055  7:35:00  \n",
       "4    -2.614469  7:39:00  \n",
       "...        ...      ...  \n",
       "8281 -2.922402  6:20:00  \n",
       "8282 -2.912931  6:22:00  \n",
       "8283 -2.907002  6:24:00  \n",
       "8284 -2.898010  6:25:00  \n",
       "8285 -2.889955  6:28:00  \n",
       "\n",
       "[8286 rows x 8 columns]"
      ]
     },
     "execution_count": 3,
     "metadata": {},
     "output_type": "execute_result"
    }
   ],
   "source": [
    "horarios"
   ]
  },
  {
   "cell_type": "code",
   "execution_count": 4,
   "metadata": {},
   "outputs": [],
   "source": [
    "horarios['Hora'] = pd.to_datetime(horarios['Hora'], format = '%H:%M:%S')"
   ]
  },
  {
   "cell_type": "code",
   "execution_count": 5,
   "metadata": {},
   "outputs": [
    {
     "name": "stdout",
     "output_type": "stream",
     "text": [
      "<class 'pandas.core.frame.DataFrame'>\n",
      "RangeIndex: 8286 entries, 0 to 8285\n",
      "Data columns (total 8 columns):\n",
      " #   Column    Non-Null Count  Dtype         \n",
      "---  ------    --------------  -----         \n",
      " 0   Convoy    8286 non-null   int64         \n",
      " 1   Lineas    8286 non-null   object        \n",
      " 2   Sentido   8286 non-null   object        \n",
      " 3   Horario   8286 non-null   object        \n",
      " 4   Estacion  8286 non-null   object        \n",
      " 5   Latitud   8286 non-null   float64       \n",
      " 6   Longitud  8286 non-null   float64       \n",
      " 7   Hora      8286 non-null   datetime64[ns]\n",
      "dtypes: datetime64[ns](1), float64(2), int64(1), object(4)\n",
      "memory usage: 518.0+ KB\n"
     ]
    }
   ],
   "source": [
    "horarios.info()"
   ]
  },
  {
   "cell_type": "code",
   "execution_count": 6,
   "metadata": {},
   "outputs": [
    {
     "data": {
      "text/plain": [
       "count    8286.000000\n",
       "mean      216.317644\n",
       "std       136.700665\n",
       "min         1.000000\n",
       "25%       103.000000\n",
       "50%       196.000000\n",
       "75%       329.000000\n",
       "max       521.000000\n",
       "Name: Convoy, dtype: float64"
      ]
     },
     "execution_count": 6,
     "metadata": {},
     "output_type": "execute_result"
    }
   ],
   "source": [
    "horarios['Convoy'].describe()"
   ]
  },
  {
   "cell_type": "code",
   "execution_count": 7,
   "metadata": {},
   "outputs": [
    {
     "data": {
      "text/plain": [
       "count     8286\n",
       "unique      10\n",
       "top         E4\n",
       "freq      1767\n",
       "Name: Lineas, dtype: object"
      ]
     },
     "execution_count": 7,
     "metadata": {},
     "output_type": "execute_result"
    }
   ],
   "source": [
    "horarios['Lineas'].describe()"
   ]
  },
  {
   "cell_type": "code",
   "execution_count": 8,
   "metadata": {},
   "outputs": [
    {
     "data": {
      "text/plain": [
       "E4          1767\n",
       "E3          1704\n",
       "E1          1490\n",
       "E3 L3       1106\n",
       "L3           776\n",
       "E1 L3        698\n",
       "E4 L3        550\n",
       "E4 E3 L3     103\n",
       "E1 E3 L3      77\n",
       "E4 E3         15\n",
       "Name: Lineas, dtype: int64"
      ]
     },
     "execution_count": 8,
     "metadata": {},
     "output_type": "execute_result"
    }
   ],
   "source": [
    "horarios['Lineas'].value_counts()"
   ]
  },
  {
   "cell_type": "code",
   "execution_count": 9,
   "metadata": {},
   "outputs": [
    {
     "data": {
      "text/plain": [
       "V    4150\n",
       "I    4136\n",
       "Name: Sentido, dtype: int64"
      ]
     },
     "execution_count": 9,
     "metadata": {},
     "output_type": "execute_result"
    }
   ],
   "source": [
    "horarios['Sentido'].value_counts()"
   ]
  },
  {
   "cell_type": "code",
   "execution_count": 10,
   "metadata": {},
   "outputs": [
    {
     "data": {
      "text/plain": [
       "L    5259\n",
       "F    3027\n",
       "Name: Horario, dtype: int64"
      ]
     },
     "execution_count": 10,
     "metadata": {},
     "output_type": "execute_result"
    }
   ],
   "source": [
    "horarios['Horario'].value_counts()"
   ]
  },
  {
   "cell_type": "code",
   "execution_count": 11,
   "metadata": {},
   "outputs": [
    {
     "data": {
      "text/plain": [
       "Uribarri Bilbao          483\n",
       "Zazpikaleak Bilbao       483\n",
       "Kukullaga Etxebarri      482\n",
       "Txurdinaga Bilbao        482\n",
       "Otxarkoaga Bilbao        482\n",
       "Zurbaranbarri Bilbao     482\n",
       "Matiko Bilbao            482\n",
       "Amorebieta               205\n",
       "Usansolo Galdakao        204\n",
       "Zuhatzu Galdakao         204\n",
       "Ariz Basauri             204\n",
       "Etxebarri                204\n",
       "Bedia                    204\n",
       "Lemoa                    204\n",
       "Ola Sondika              189\n",
       "Sondika                  189\n",
       "Lekunbiz Zamudio         187\n",
       "Lezama                   187\n",
       "Derio                    187\n",
       "Zamudio                  187\n",
       "Larrondo Loiu            187\n",
       "Kurtzea Lezama           187\n",
       "Elotxelerri Loiu         187\n",
       "Durango                  116\n",
       "Traña Abadiño            112\n",
       "Euba Amorebieta          107\n",
       "Gernika                  105\n",
       "Zaldibar                  99\n",
       "Berriz                    99\n",
       "Lurgorri Gernika          98\n",
       "Zugastieta Muxika         97\n",
       "Muxika                    97\n",
       "Errotabarri Ermua         96\n",
       "Mundaka                   96\n",
       "Ermua                     96\n",
       "Forua                     96\n",
       "Institutoa Gernika        96\n",
       "Itsasbegi Busturia        96\n",
       "Bermeo                    96\n",
       "S. Kristobal Busturia     96\n",
       "Axpe Busturia             96\n",
       "Name: Estacion, dtype: int64"
      ]
     },
     "execution_count": 11,
     "metadata": {},
     "output_type": "execute_result"
    }
   ],
   "source": [
    "horarios['Estacion'].value_counts()"
   ]
  },
  {
   "cell_type": "code",
   "execution_count": 12,
   "metadata": {},
   "outputs": [
    {
     "data": {
      "text/plain": [
       "Estacion               Latitud    Longitud \n",
       "Uribarri Bilbao        43.266817  -2.919700    483\n",
       "Zazpikaleak Bilbao     43.259955  -2.922402    483\n",
       "Zurbaranbarri Bilbao   43.264291  -2.912931    482\n",
       "Kukullaga Etxebarri    43.251161  -2.889955    482\n",
       "Matiko Bilbao          43.269003  -2.925438    482\n",
       "Otxarkoaga Bilbao      43.258909  -2.898010    482\n",
       "Txurdinaga Bilbao      43.257965  -2.907002    482\n",
       "Amorebieta             43.216584  -2.737983    205\n",
       "Usansolo Galdakao      43.218087  -2.824452    204\n",
       "Zuhatzu Galdakao       43.228743  -2.855595    204\n",
       "Ariz Basauri           43.241532  -2.881722    204\n",
       "Bedia                  43.206434  -2.800638    204\n",
       "Etxebarri              43.244727  -2.892260    204\n",
       "Lemoa                  43.206607  -2.778291    204\n",
       "Sondika                43.298951  -2.926364    189\n",
       "Ola Sondika            43.292220  -2.926419    189\n",
       "Derio                  43.290625  -2.886510    187\n",
       "Elotxelerri Loiu       43.294339  -2.905634    187\n",
       "Kurtzea Lezama         43.276479  -2.846537    187\n",
       "Larrondo Loiu          43.294301  -2.916263    187\n",
       "Lekunbiz Zamudio       43.287134  -2.874575    187\n",
       "Lezama                 43.273424  -2.835660    187\n",
       "Zamudio                43.283989  -2.864961    187\n",
       "Durango                43.169968  -2.638537    116\n",
       "Traña Abadiño          43.165084  -2.614469    112\n",
       "Euba Amorebieta        43.196710  -2.699737    107\n",
       "Gernika                43.314466  -2.675672    105\n",
       "Berriz                 43.168511  -2.576055     99\n",
       "Zaldibar               43.171635  -2.552394     99\n",
       "Lurgorri Gernika       43.306266  -2.680399     98\n",
       "Zugastieta Muxika      43.252026  -2.692617     97\n",
       "Muxika                 43.287247  -2.689866     97\n",
       "S. Kristobal Busturia  43.367670  -2.690204     96\n",
       "Axpe Busturia          43.380391  -2.692939     96\n",
       "Bermeo                 43.417798  -2.723196     96\n",
       "Ermua                  43.185551  -2.513451     96\n",
       "Mundaka                43.408912  -2.700770     96\n",
       "Errotabarri Ermua      43.183351  -2.503351     96\n",
       "Forua                  43.331945  -2.673586     96\n",
       "Institutoa Gernika     43.319788  -2.676718     96\n",
       "Itsasbegi Busturia     43.391328  -2.693875     96\n",
       "dtype: int64"
      ]
     },
     "execution_count": 12,
     "metadata": {},
     "output_type": "execute_result"
    }
   ],
   "source": [
    "horarios[['Estacion','Latitud','Longitud']].value_counts()"
   ]
  },
  {
   "cell_type": "code",
   "execution_count": 13,
   "metadata": {},
   "outputs": [
    {
     "data": {
      "text/plain": [
       "count                             8286\n",
       "mean     1900-01-01 14:34:31.810281472\n",
       "min                1900-01-01 05:36:00\n",
       "25%                1900-01-01 10:22:00\n",
       "50%                1900-01-01 14:33:00\n",
       "75%                1900-01-01 18:43:00\n",
       "max                1900-01-01 23:49:00\n",
       "Name: Hora, dtype: object"
      ]
     },
     "execution_count": 13,
     "metadata": {},
     "output_type": "execute_result"
    }
   ],
   "source": [
    "horarios['Hora'].describe(datetime_is_numeric = True)"
   ]
  },
  {
   "cell_type": "code",
   "execution_count": 14,
   "metadata": {},
   "outputs": [
    {
     "data": {
      "image/png": "[encoded data removed]",
      "text/plain": [
       "<Figure size 288x144 with 1 Axes>"
      ]
     },
     "metadata": {
      "needs_background": "light"
     },
     "output_type": "display_data"
    }
   ],
   "source": [
    "plt.figure(figsize = (4,2))\n",
    "sns.heatmap(horarios.isnull(), yticklabels = False, cbar = False, cmap = 'Blues_r') #El heatmap, convierte a NaN los valores 0 para ver como huecos los registros donde no se haya consignado valor.\n",
    "plt.show()"
   ]
  },
  {
   "cell_type": "code",
   "execution_count": 15,
   "metadata": {},
   "outputs": [
    {
     "data": {
      "text/html": [
       "<div>\n",
       "<style scoped>\n",
       "    .dataframe tbody tr th:only-of-type {\n",
       "        vertical-align: middle;\n",
       "    }\n",
       "\n",
       "    .dataframe tbody tr th {\n",
       "        vertical-align: top;\n",
       "    }\n",
       "\n",
       "    .dataframe thead th {\n",
       "        text-align: right;\n",
       "    }\n",
       "</style>\n",
       "<table border=\"1\" class=\"dataframe\">\n",
       "  <thead>\n",
       "    <tr style=\"text-align: right;\">\n",
       "      <th></th>\n",
       "      <th>Estacion</th>\n",
       "    </tr>\n",
       "  </thead>\n",
       "  <tbody>\n",
       "    <tr>\n",
       "      <th>Uribarri Bilbao</th>\n",
       "      <td>483</td>\n",
       "    </tr>\n",
       "    <tr>\n",
       "      <th>Zazpikaleak Bilbao</th>\n",
       "      <td>483</td>\n",
       "    </tr>\n",
       "    <tr>\n",
       "      <th>Kukullaga Etxebarri</th>\n",
       "      <td>482</td>\n",
       "    </tr>\n",
       "    <tr>\n",
       "      <th>Txurdinaga Bilbao</th>\n",
       "      <td>482</td>\n",
       "    </tr>\n",
       "    <tr>\n",
       "      <th>Otxarkoaga Bilbao</th>\n",
       "      <td>482</td>\n",
       "    </tr>\n",
       "    <tr>\n",
       "      <th>Zurbaranbarri Bilbao</th>\n",
       "      <td>482</td>\n",
       "    </tr>\n",
       "    <tr>\n",
       "      <th>Matiko Bilbao</th>\n",
       "      <td>482</td>\n",
       "    </tr>\n",
       "    <tr>\n",
       "      <th>Amorebieta</th>\n",
       "      <td>205</td>\n",
       "    </tr>\n",
       "    <tr>\n",
       "      <th>Usansolo Galdakao</th>\n",
       "      <td>204</td>\n",
       "    </tr>\n",
       "    <tr>\n",
       "      <th>Zuhatzu Galdakao</th>\n",
       "      <td>204</td>\n",
       "    </tr>\n",
       "    <tr>\n",
       "      <th>Ariz Basauri</th>\n",
       "      <td>204</td>\n",
       "    </tr>\n",
       "    <tr>\n",
       "      <th>Etxebarri</th>\n",
       "      <td>204</td>\n",
       "    </tr>\n",
       "    <tr>\n",
       "      <th>Bedia</th>\n",
       "      <td>204</td>\n",
       "    </tr>\n",
       "    <tr>\n",
       "      <th>Lemoa</th>\n",
       "      <td>204</td>\n",
       "    </tr>\n",
       "    <tr>\n",
       "      <th>Ola Sondika</th>\n",
       "      <td>189</td>\n",
       "    </tr>\n",
       "    <tr>\n",
       "      <th>Sondika</th>\n",
       "      <td>189</td>\n",
       "    </tr>\n",
       "    <tr>\n",
       "      <th>Lekunbiz Zamudio</th>\n",
       "      <td>187</td>\n",
       "    </tr>\n",
       "    <tr>\n",
       "      <th>Lezama</th>\n",
       "      <td>187</td>\n",
       "    </tr>\n",
       "    <tr>\n",
       "      <th>Derio</th>\n",
       "      <td>187</td>\n",
       "    </tr>\n",
       "    <tr>\n",
       "      <th>Zamudio</th>\n",
       "      <td>187</td>\n",
       "    </tr>\n",
       "    <tr>\n",
       "      <th>Larrondo Loiu</th>\n",
       "      <td>187</td>\n",
       "    </tr>\n",
       "    <tr>\n",
       "      <th>Kurtzea Lezama</th>\n",
       "      <td>187</td>\n",
       "    </tr>\n",
       "    <tr>\n",
       "      <th>Elotxelerri Loiu</th>\n",
       "      <td>187</td>\n",
       "    </tr>\n",
       "    <tr>\n",
       "      <th>Durango</th>\n",
       "      <td>116</td>\n",
       "    </tr>\n",
       "    <tr>\n",
       "      <th>Traña Abadiño</th>\n",
       "      <td>112</td>\n",
       "    </tr>\n",
       "    <tr>\n",
       "      <th>Euba Amorebieta</th>\n",
       "      <td>107</td>\n",
       "    </tr>\n",
       "    <tr>\n",
       "      <th>Gernika</th>\n",
       "      <td>105</td>\n",
       "    </tr>\n",
       "    <tr>\n",
       "      <th>Zaldibar</th>\n",
       "      <td>99</td>\n",
       "    </tr>\n",
       "    <tr>\n",
       "      <th>Berriz</th>\n",
       "      <td>99</td>\n",
       "    </tr>\n",
       "    <tr>\n",
       "      <th>Lurgorri Gernika</th>\n",
       "      <td>98</td>\n",
       "    </tr>\n",
       "    <tr>\n",
       "      <th>Zugastieta Muxika</th>\n",
       "      <td>97</td>\n",
       "    </tr>\n",
       "    <tr>\n",
       "      <th>Muxika</th>\n",
       "      <td>97</td>\n",
       "    </tr>\n",
       "    <tr>\n",
       "      <th>Errotabarri Ermua</th>\n",
       "      <td>96</td>\n",
       "    </tr>\n",
       "    <tr>\n",
       "      <th>Mundaka</th>\n",
       "      <td>96</td>\n",
       "    </tr>\n",
       "    <tr>\n",
       "      <th>Ermua</th>\n",
       "      <td>96</td>\n",
       "    </tr>\n",
       "    <tr>\n",
       "      <th>Forua</th>\n",
       "      <td>96</td>\n",
       "    </tr>\n",
       "    <tr>\n",
       "      <th>Institutoa Gernika</th>\n",
       "      <td>96</td>\n",
       "    </tr>\n",
       "    <tr>\n",
       "      <th>Itsasbegi Busturia</th>\n",
       "      <td>96</td>\n",
       "    </tr>\n",
       "    <tr>\n",
       "      <th>Bermeo</th>\n",
       "      <td>96</td>\n",
       "    </tr>\n",
       "    <tr>\n",
       "      <th>S. Kristobal Busturia</th>\n",
       "      <td>96</td>\n",
       "    </tr>\n",
       "    <tr>\n",
       "      <th>Axpe Busturia</th>\n",
       "      <td>96</td>\n",
       "    </tr>\n",
       "  </tbody>\n",
       "</table>\n",
       "</div>"
      ],
      "text/plain": [
       "                       Estacion\n",
       "Uribarri Bilbao             483\n",
       "Zazpikaleak Bilbao          483\n",
       "Kukullaga Etxebarri         482\n",
       "Txurdinaga Bilbao           482\n",
       "Otxarkoaga Bilbao           482\n",
       "Zurbaranbarri Bilbao        482\n",
       "Matiko Bilbao               482\n",
       "Amorebieta                  205\n",
       "Usansolo Galdakao           204\n",
       "Zuhatzu Galdakao            204\n",
       "Ariz Basauri                204\n",
       "Etxebarri                   204\n",
       "Bedia                       204\n",
       "Lemoa                       204\n",
       "Ola Sondika                 189\n",
       "Sondika                     189\n",
       "Lekunbiz Zamudio            187\n",
       "Lezama                      187\n",
       "Derio                       187\n",
       "Zamudio                     187\n",
       "Larrondo Loiu               187\n",
       "Kurtzea Lezama              187\n",
       "Elotxelerri Loiu            187\n",
       "Durango                     116\n",
       "Traña Abadiño               112\n",
       "Euba Amorebieta             107\n",
       "Gernika                     105\n",
       "Zaldibar                     99\n",
       "Berriz                       99\n",
       "Lurgorri Gernika             98\n",
       "Zugastieta Muxika            97\n",
       "Muxika                       97\n",
       "Errotabarri Ermua            96\n",
       "Mundaka                      96\n",
       "Ermua                        96\n",
       "Forua                        96\n",
       "Institutoa Gernika           96\n",
       "Itsasbegi Busturia           96\n",
       "Bermeo                       96\n",
       "S. Kristobal Busturia        96\n",
       "Axpe Busturia                96"
      ]
     },
     "execution_count": 15,
     "metadata": {},
     "output_type": "execute_result"
    }
   ],
   "source": [
    "pd.DataFrame(horarios['Estacion'].value_counts())"
   ]
  }
 ],
 "metadata": {
  "kernelspec": {
   "display_name": "Python 3",
   "language": "python",
   "name": "python3"
  },
  "language_info": {
   "codemirror_mode": {
    "name": "ipython",
    "version": 3
   },
   "file_extension": ".py",
   "mimetype": "text/x-python",
   "name": "python",
   "nbconvert_exporter": "python",
   "pygments_lexer": "ipython3",
   "version": "3.8.5"
  }
 },
 "nbformat": 4,
 "nbformat_minor": 4
}
